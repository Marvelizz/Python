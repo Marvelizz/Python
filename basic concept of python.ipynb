{
  "nbformat": 4,
  "nbformat_minor": 0,
  "metadata": {
    "colab": {
      "provenance": [],
      "toc_visible": true
    },
    "kernelspec": {
      "name": "python3",
      "display_name": "Python 3"
    },
    "language_info": {
      "name": "python"
    }
  },
  "cells": [
    {
      "cell_type": "code",
      "source": [
        "#LIST"
      ],
      "metadata": {
        "id": "Z_c16s1UKV9Y"
      },
      "execution_count": null,
      "outputs": []
    },
    {
      "cell_type": "code",
      "execution_count": null,
      "metadata": {
        "id": "oVeHFHszYrSC",
        "colab": {
          "base_uri": "https://localhost:8080/"
        },
        "outputId": "89318953-c61e-4fa7-d87a-3fe465350034"
      },
      "outputs": [
        {
          "output_type": "stream",
          "name": "stdout",
          "text": [
            "['carrot', 'onion', 'potato']\n"
          ]
        }
      ],
      "source": [
        "a=[\"carrot\",\"onion\",\"potato\"]\n",
        "b=[1,2,3]\n",
        "print(a)"
      ]
    },
    {
      "cell_type": "code",
      "source": [
        "cab=[\"auto\",\"car\",1,2]\n",
        "print(cab)"
      ],
      "metadata": {
        "colab": {
          "base_uri": "https://localhost:8080/"
        },
        "id": "7LWmv9hgcVZz",
        "outputId": "c7de2462-ae8a-419a-baf8-4c58816fa732"
      },
      "execution_count": null,
      "outputs": [
        {
          "output_type": "stream",
          "name": "stdout",
          "text": [
            "['auto', 'car', 1, 2]\n"
          ]
        }
      ]
    },
    {
      "cell_type": "code",
      "source": [
        "cab=[\"auto\",\"car\",1,2]\n",
        "print('cab')"
      ],
      "metadata": {
        "colab": {
          "base_uri": "https://localhost:8080/"
        },
        "id": "1gE4jYj8cwdk",
        "outputId": "7501e88e-d454-46f1-b6dd-e27ab5feb046"
      },
      "execution_count": null,
      "outputs": [
        {
          "output_type": "stream",
          "name": "stdout",
          "text": [
            "cab\n"
          ]
        }
      ]
    },
    {
      "cell_type": "code",
      "source": [
        "#for viewing length of the element\n",
        "print(len(cab))"
      ],
      "metadata": {
        "colab": {
          "base_uri": "https://localhost:8080/"
        },
        "id": "xIBAH9Gfda1U",
        "outputId": "0fe6a6a2-3f87-445e-d2b6-0e708422ae13"
      },
      "execution_count": null,
      "outputs": [
        {
          "output_type": "stream",
          "name": "stdout",
          "text": [
            "4\n"
          ]
        }
      ]
    },
    {
      "cell_type": "code",
      "source": [
        "print(cab[1])"
      ],
      "metadata": {
        "colab": {
          "base_uri": "https://localhost:8080/"
        },
        "id": "zYPQ5MvmefFs",
        "outputId": "d0f4a82e-9425-48f8-cb5c-cc2bb7fdc22a"
      },
      "execution_count": null,
      "outputs": [
        {
          "output_type": "stream",
          "name": "stdout",
          "text": [
            "car\n"
          ]
        }
      ]
    },
    {
      "cell_type": "code",
      "source": [
        "d1=[\"white\",\"red\",\"yellow\"]\n",
        "d2=[1,2,3]\n",
        "sum=d1+d2\n",
        "print(sum)"
      ],
      "metadata": {
        "colab": {
          "base_uri": "https://localhost:8080/"
        },
        "id": "TDhypaSnpQuc",
        "outputId": "10fcf439-8ca8-4e0c-9b59-ea1f7c5fa974"
      },
      "execution_count": null,
      "outputs": [
        {
          "output_type": "stream",
          "name": "stdout",
          "text": [
            "['white', 'red', 'yellow', 1, 2, 3]\n"
          ]
        }
      ]
    },
    {
      "cell_type": "code",
      "source": [
        "#to update the list\n",
        "d1[0]=\"black\"\n",
        "print(d1)"
      ],
      "metadata": {
        "colab": {
          "base_uri": "https://localhost:8080/"
        },
        "id": "os3xvuFcqMEM",
        "outputId": "1d288f2c-8e76-4a9d-b2a1-0dbfa1133dd2"
      },
      "execution_count": null,
      "outputs": [
        {
          "output_type": "stream",
          "name": "stdout",
          "text": [
            "['black', 'red', 'yellow']\n"
          ]
        }
      ]
    },
    {
      "cell_type": "code",
      "source": [
        "cab[1]=\"scooter\"\n",
        "print(cab)"
      ],
      "metadata": {
        "colab": {
          "base_uri": "https://localhost:8080/"
        },
        "id": "opeccFzvrmDH",
        "outputId": "a157ba76-c982-4b72-bb5b-daabe0ce2955"
      },
      "execution_count": null,
      "outputs": [
        {
          "output_type": "stream",
          "name": "stdout",
          "text": [
            "['auto', 'scooter', 1, 2]\n"
          ]
        }
      ]
    },
    {
      "cell_type": "code",
      "source": [
        "#Adding elements using Append Method\n",
        "cab.append(\"bus\")\n",
        "print(cab)"
      ],
      "metadata": {
        "colab": {
          "base_uri": "https://localhost:8080/"
        },
        "id": "BBg1Qmg-sQbJ",
        "outputId": "fac576ec-8668-4d32-e4ba-ec658e923328"
      },
      "execution_count": null,
      "outputs": [
        {
          "output_type": "stream",
          "name": "stdout",
          "text": [
            "['auto', 'scooter', 1, 2, 'bus']\n"
          ]
        }
      ]
    },
    {
      "cell_type": "code",
      "source": [
        "cab.append(\"van\")\n",
        "print(cab)"
      ],
      "metadata": {
        "colab": {
          "base_uri": "https://localhost:8080/"
        },
        "id": "pqqZkdins2T9",
        "outputId": "2744515d-cf92-47e6-9c9b-3ba2d5563374"
      },
      "execution_count": null,
      "outputs": [
        {
          "output_type": "stream",
          "name": "stdout",
          "text": [
            "['auto', 'scooter', 1, 2, 'bus', 'van']\n"
          ]
        }
      ]
    },
    {
      "cell_type": "code",
      "source": [
        "#insert.... to add particular area\n",
        "cab.insert(2,\"bike\")\n",
        "print(cab)"
      ],
      "metadata": {
        "colab": {
          "base_uri": "https://localhost:8080/"
        },
        "id": "2FE8C7ontRrn",
        "outputId": "4e5a50a1-ae62-4ca4-d1c4-f400979dcff9"
      },
      "execution_count": null,
      "outputs": [
        {
          "output_type": "stream",
          "name": "stdout",
          "text": [
            "['auto', 'bike', 'bike', 'scooter', 'bike', 'bike', 'bike', 'bike', 1, 2, 'bus', 'van']\n"
          ]
        }
      ]
    },
    {
      "cell_type": "code",
      "source": [
        "#more elements add... .extend method\n",
        "list1 = [1, 2, 3,]\n",
        "new_lists = [6,5,4]\n",
        "list1.extend(new_lists)\n",
        "print(list1)"
      ],
      "metadata": {
        "colab": {
          "base_uri": "https://localhost:8080/"
        },
        "id": "lSV8StQWu2c2",
        "outputId": "735c557e-e5d5-46d3-c517-7acbe1b4954c"
      },
      "execution_count": null,
      "outputs": [
        {
          "output_type": "stream",
          "name": "stdout",
          "text": [
            "[1, 2, 3, 6, 5, 4]\n"
          ]
        }
      ]
    },
    {
      "cell_type": "code",
      "source": [
        "#remove... element\n",
        "list1.remove(1)\n",
        "print(list1)"
      ],
      "metadata": {
        "colab": {
          "base_uri": "https://localhost:8080/"
        },
        "id": "gut_FoqZvtAQ",
        "outputId": "9ab93a10-2b70-4a15-8454-7d461f11ee6e"
      },
      "execution_count": null,
      "outputs": [
        {
          "output_type": "stream",
          "name": "stdout",
          "text": [
            "[6, 5, 4]\n"
          ]
        }
      ]
    },
    {
      "cell_type": "code",
      "source": [
        "#to clear... all data\n",
        "list1.clear()\n",
        "print(list1)"
      ],
      "metadata": {
        "colab": {
          "base_uri": "https://localhost:8080/"
        },
        "id": "A3wxqRfmxiGG",
        "outputId": "0d94c00d-02a8-4a43-f2ab-5f63dc34870b"
      },
      "execution_count": null,
      "outputs": [
        {
          "output_type": "stream",
          "name": "stdout",
          "text": [
            "[]\n"
          ]
        }
      ]
    },
    {
      "cell_type": "code",
      "source": [
        "#to delete complete data\n",
        "del cab\n",
        "print(cab)"
      ],
      "metadata": {
        "id": "GgJdnt8dx9nz"
      },
      "execution_count": null,
      "outputs": []
    },
    {
      "cell_type": "code",
      "source": [],
      "metadata": {
        "id": "L7OA_5agzD2J"
      },
      "execution_count": null,
      "outputs": []
    },
    {
      "cell_type": "code",
      "source": [
        "#TUPLES"
      ],
      "metadata": {
        "id": "zYKOtD5xzD-R"
      },
      "execution_count": null,
      "outputs": []
    },
    {
      "cell_type": "code",
      "source": [
        "pet=(\"cat\",\"dog\",\"goat\")\n",
        "print(pet)"
      ],
      "metadata": {
        "colab": {
          "base_uri": "https://localhost:8080/"
        },
        "id": "oEjnvaRQzG70",
        "outputId": "f111ea8d-a7e2-4f60-a497-4b3db88adb88"
      },
      "execution_count": null,
      "outputs": [
        {
          "output_type": "stream",
          "name": "stdout",
          "text": [
            "('cat', 'dog', 'goat')\n"
          ]
        }
      ]
    },
    {
      "cell_type": "code",
      "source": [
        "print(type(pet))"
      ],
      "metadata": {
        "colab": {
          "base_uri": "https://localhost:8080/"
        },
        "id": "juUb2iKWzj_W",
        "outputId": "6535d840-08b0-463c-a4bc-e20c31019490"
      },
      "execution_count": null,
      "outputs": [
        {
          "output_type": "stream",
          "name": "stdout",
          "text": [
            "<class 'tuple'>\n"
          ]
        }
      ]
    },
    {
      "cell_type": "code",
      "source": [
        "print(len(pet))"
      ],
      "metadata": {
        "colab": {
          "base_uri": "https://localhost:8080/"
        },
        "id": "jIbWz0Mt0NG7",
        "outputId": "e089a371-0b67-482b-c93c-acfa3209d9ad"
      },
      "execution_count": null,
      "outputs": [
        {
          "output_type": "stream",
          "name": "stdout",
          "text": [
            "3\n"
          ]
        }
      ]
    },
    {
      "cell_type": "code",
      "source": [
        "player1=(\"messi\",\"cr7\")\n",
        "player2=(\"neymar\",\"ramos\")\n",
        "player3=player1+player2\n",
        "print(player3)"
      ],
      "metadata": {
        "colab": {
          "base_uri": "https://localhost:8080/"
        },
        "id": "JjsYsR6x0hMm",
        "outputId": "a2cd1434-91d2-4028-e1d7-51a0455210db"
      },
      "execution_count": null,
      "outputs": [
        {
          "output_type": "stream",
          "name": "stdout",
          "text": [
            "('messi', 'cr7', 'neymar', 'ramos')\n"
          ]
        }
      ]
    },
    {
      "cell_type": "code",
      "source": [
        "#For adding new element.... Tuple is a Immutend..can't add a element"
      ],
      "metadata": {
        "id": "J44P0ML41fJp"
      },
      "execution_count": null,
      "outputs": []
    },
    {
      "cell_type": "code",
      "source": [
        "player1.Append(\"ronaldo\")\n",
        "print(player1)"
      ],
      "metadata": {
        "id": "Zh4lTf_m1HXV"
      },
      "execution_count": null,
      "outputs": []
    },
    {
      "cell_type": "code",
      "source": [
        "# SET.... NEXT"
      ],
      "metadata": {
        "id": "z19TaR4S1zOJ"
      },
      "execution_count": null,
      "outputs": []
    },
    {
      "cell_type": "code",
      "source": [
        "fruits={\"Apple\",\"Banana\",\"Mango\"}\n",
        "print(fruits)"
      ],
      "metadata": {
        "colab": {
          "base_uri": "https://localhost:8080/"
        },
        "id": "cTW5ab0N12u6",
        "outputId": "eb1fbe53-98b6-4d4d-b3cc-a51d147c88a0"
      },
      "execution_count": null,
      "outputs": [
        {
          "output_type": "stream",
          "name": "stdout",
          "text": [
            "{'Apple', 'Banana', 'Mango'}\n"
          ]
        }
      ]
    },
    {
      "cell_type": "code",
      "source": [
        "#index.. number viewing"
      ],
      "metadata": {
        "id": "9ei5pywS3k0z"
      },
      "execution_count": null,
      "outputs": []
    },
    {
      "cell_type": "code",
      "source": [
        "print(fruits[1])"
      ],
      "metadata": {
        "id": "O7XOiXKz287L"
      },
      "execution_count": null,
      "outputs": []
    },
    {
      "cell_type": "code",
      "source": [
        "print(len(fruits))"
      ],
      "metadata": {
        "colab": {
          "base_uri": "https://localhost:8080/"
        },
        "id": "9ucof7tv4trL",
        "outputId": "b92e56db-9ba4-4971-d848-18ef149a076c"
      },
      "execution_count": null,
      "outputs": [
        {
          "output_type": "stream",
          "name": "stdout",
          "text": [
            "3\n"
          ]
        }
      ]
    },
    {
      "cell_type": "code",
      "source": [
        "#For checking element is existing"
      ],
      "metadata": {
        "id": "VhI9wA2c5TmU"
      },
      "execution_count": null,
      "outputs": []
    },
    {
      "cell_type": "code",
      "source": [
        "print(\"Apple\" in fruits)"
      ],
      "metadata": {
        "colab": {
          "base_uri": "https://localhost:8080/"
        },
        "id": "8BbhUWf94x8T",
        "outputId": "7cef7fa7-e5b4-40cc-b76d-1618634bcb51"
      },
      "execution_count": null,
      "outputs": [
        {
          "output_type": "stream",
          "name": "stdout",
          "text": [
            "True\n"
          ]
        }
      ]
    },
    {
      "cell_type": "code",
      "source": [
        "print(\"Jackfruit\" in fruits)"
      ],
      "metadata": {
        "colab": {
          "base_uri": "https://localhost:8080/"
        },
        "id": "3rXz5GwE5cPA",
        "outputId": "4099ff89-4e39-4ef0-e82b-731d218ec7a3"
      },
      "execution_count": null,
      "outputs": [
        {
          "output_type": "stream",
          "name": "stdout",
          "text": [
            "False\n"
          ]
        }
      ]
    },
    {
      "cell_type": "code",
      "source": [
        "#adding element..."
      ],
      "metadata": {
        "id": "ccG3v2rM5jXn"
      },
      "execution_count": null,
      "outputs": []
    },
    {
      "cell_type": "code",
      "source": [
        "fruits.add(\"Jackfruit\")\n",
        "print(fruits)"
      ],
      "metadata": {
        "colab": {
          "base_uri": "https://localhost:8080/"
        },
        "id": "JZTBsUaW5nfF",
        "outputId": "1697238a-2e0a-4d04-b034-dbd292a12c26"
      },
      "execution_count": null,
      "outputs": [
        {
          "output_type": "stream",
          "name": "stdout",
          "text": [
            "{'Apple', 'Jackfruit', 'Banana', 'Mango'}\n"
          ]
        }
      ]
    },
    {
      "cell_type": "code",
      "source": [
        "#update... adding more elements"
      ],
      "metadata": {
        "id": "gyI_f5ZA6O0v"
      },
      "execution_count": null,
      "outputs": []
    },
    {
      "cell_type": "code",
      "source": [
        "fruits.update([\"Plum\",\"Grapes\"])\n",
        "print(fruits)"
      ],
      "metadata": {
        "colab": {
          "base_uri": "https://localhost:8080/"
        },
        "id": "NhN9ihzs55T-",
        "outputId": "9d67a61b-4df8-4415-a55a-8a7a2b7fbc87"
      },
      "execution_count": null,
      "outputs": [
        {
          "output_type": "stream",
          "name": "stdout",
          "text": [
            "{'Grapes', 'Apple', 'Mango', 'Plum', 'Banana', 'Jackfruit'}\n"
          ]
        }
      ]
    },
    {
      "cell_type": "code",
      "source": [
        "tablets=(\"paracetamol\",\"Cetrizine\",\"dolo\")\n",
        "print(tablets)"
      ],
      "metadata": {
        "id": "rZhLB5xm6TVP",
        "colab": {
          "base_uri": "https://localhost:8080/"
        },
        "outputId": "31a55344-37db-4d3c-9d1b-24366f15fbe0"
      },
      "execution_count": null,
      "outputs": [
        {
          "output_type": "stream",
          "name": "stdout",
          "text": [
            "('paracetamol', 'Cetrizine', 'dolo')\n"
          ]
        }
      ]
    },
    {
      "cell_type": "code",
      "source": [
        "#############"
      ],
      "metadata": {
        "id": "h6H0GxScLMMd"
      },
      "execution_count": null,
      "outputs": []
    },
    {
      "cell_type": "code",
      "source": [
        "b=3\n",
        "d=4\n",
        "sum=b+d\n",
        "print(sum)"
      ],
      "metadata": {
        "colab": {
          "base_uri": "https://localhost:8080/"
        },
        "id": "rz_1tdyUOvwO",
        "outputId": "fdec98af-041c-44ae-8373-a95874a26a63"
      },
      "execution_count": null,
      "outputs": [
        {
          "output_type": "stream",
          "name": "stdout",
          "text": [
            "7\n"
          ]
        }
      ]
    },
    {
      "cell_type": "code",
      "source": [
        "a= int (input(\"Enter first no. :\"))\n",
        "b= int (input(\"Enter second no. :\"))\n",
        "add=(a+b)\n",
        "print(\"Addition is :\", add)"
      ],
      "metadata": {
        "colab": {
          "base_uri": "https://localhost:8080/"
        },
        "id": "QO3RI0pMP8uV",
        "outputId": "7ca4a264-d5c2-4fe0-e512-a5da1458e2d6"
      },
      "execution_count": null,
      "outputs": [
        {
          "output_type": "stream",
          "name": "stdout",
          "text": [
            "Enter first no. :5\n",
            "Enter second no. :2\n",
            "Addition is : 7\n"
          ]
        }
      ]
    },
    {
      "cell_type": "code",
      "source": [
        "c=int(input(\"Enter first no. :\"))\n",
        "d=int(input(\"Enter second no. :\"))\n",
        "mult=(c*d)\n",
        "print(\"Multiplication is :\", mult)"
      ],
      "metadata": {
        "colab": {
          "base_uri": "https://localhost:8080/"
        },
        "id": "YoYU9S7HTjqu",
        "outputId": "d6c173fc-9f1c-43f6-bec8-bc408b59a138"
      },
      "execution_count": null,
      "outputs": [
        {
          "output_type": "stream",
          "name": "stdout",
          "text": [
            "Enter first no. :2\n",
            "Enter second no. :4\n",
            "Multiplication is : 8\n"
          ]
        }
      ]
    },
    {
      "cell_type": "code",
      "source": [
        "e=int(input(\"Enter first no. :\"))\n",
        "f=int(input(\"Enter second no. :\"))\n",
        "div=(e/f)\n",
        "print(\"Division is :\", div)"
      ],
      "metadata": {
        "colab": {
          "base_uri": "https://localhost:8080/"
        },
        "id": "4Eisdv7QVgk5",
        "outputId": "cf3d81cc-2fcc-4162-e6a9-8d2655c8bfd2"
      },
      "execution_count": null,
      "outputs": [
        {
          "output_type": "stream",
          "name": "stdout",
          "text": [
            "Enter first no. :10\n",
            "Enter second no. :5\n",
            "Division is : 2.0\n"
          ]
        }
      ]
    },
    {
      "cell_type": "code",
      "source": [
        "h=float(input(\"Enter first no. :\"))\n",
        "j=float(input(\"Enter second no. :\"))\n",
        "sub=(h-j)\n",
        "print(\"Substraction is :\", sub)"
      ],
      "metadata": {
        "colab": {
          "base_uri": "https://localhost:8080/"
        },
        "id": "RbqtlRRIV1YD",
        "outputId": "d505add4-6721-4592-93d0-09539afaa328"
      },
      "execution_count": null,
      "outputs": [
        {
          "output_type": "stream",
          "name": "stdout",
          "text": [
            "Enter first no. :7\n",
            "Enter second no. :3\n",
            "Substraction is : 4.0\n"
          ]
        }
      ]
    },
    {
      "cell_type": "code",
      "source": [
        "#############"
      ],
      "metadata": {
        "id": "QetuKK66gmm7"
      },
      "execution_count": null,
      "outputs": []
    },
    {
      "cell_type": "code",
      "source": [
        "countries=[]\n",
        "print(countries)"
      ],
      "metadata": {
        "colab": {
          "base_uri": "https://localhost:8080/"
        },
        "id": "orC6eFpNj4gF",
        "outputId": "f4c460fe-9b13-4dfd-8073-cdc49d5ce129"
      },
      "execution_count": null,
      "outputs": [
        {
          "output_type": "stream",
          "name": "stdout",
          "text": [
            "[]\n"
          ]
        }
      ]
    },
    {
      "cell_type": "code",
      "source": [
        "countries.append(\"India\")\n",
        "print(countries)"
      ],
      "metadata": {
        "colab": {
          "base_uri": "https://localhost:8080/"
        },
        "id": "SVqk1rohkahH",
        "outputId": "60832793-5c5e-472b-f4a1-a4c78b906561"
      },
      "execution_count": null,
      "outputs": [
        {
          "output_type": "stream",
          "name": "stdout",
          "text": [
            "['India']\n"
          ]
        }
      ]
    },
    {
      "cell_type": "code",
      "source": [
        "############# NEW SET"
      ],
      "metadata": {
        "id": "j5fdBD-BOAEh"
      },
      "execution_count": null,
      "outputs": []
    },
    {
      "cell_type": "code",
      "source": [
        "#### remove & discard"
      ],
      "metadata": {
        "id": "BXA8UGL8Qdz2"
      },
      "execution_count": null,
      "outputs": []
    },
    {
      "cell_type": "code",
      "source": [
        "island={\"Agatti\",\"Kavaratti\",\"Kadmat\"}\n",
        "print(island)"
      ],
      "metadata": {
        "colab": {
          "base_uri": "https://localhost:8080/"
        },
        "id": "J-zutvtPOC6u",
        "outputId": "ec510ac5-1a85-4331-fbd4-18309aba3d17"
      },
      "execution_count": 1,
      "outputs": [
        {
          "output_type": "stream",
          "name": "stdout",
          "text": [
            "{'Kavaratti', 'Kadmat', 'Agatti'}\n"
          ]
        }
      ]
    },
    {
      "cell_type": "code",
      "source": [
        "island.remove(\"Kavaratti\")\n",
        "print(island)"
      ],
      "metadata": {
        "colab": {
          "base_uri": "https://localhost:8080/"
        },
        "id": "S7HGlXA_O6xT",
        "outputId": "8b67bb06-e8e4-4593-966b-a9ee6695065a"
      },
      "execution_count": 2,
      "outputs": [
        {
          "output_type": "stream",
          "name": "stdout",
          "text": [
            "{'Kadmat', 'Agatti'}\n"
          ]
        }
      ]
    },
    {
      "cell_type": "code",
      "source": [
        "island.discard(\"Agatti\")\n",
        "print(island)"
      ],
      "metadata": {
        "colab": {
          "base_uri": "https://localhost:8080/"
        },
        "id": "LdnuOzBVPZRx",
        "outputId": "4340732c-5fac-47bc-9864-f1321073a5f2"
      },
      "execution_count": 3,
      "outputs": [
        {
          "output_type": "stream",
          "name": "stdout",
          "text": [
            "{'Kadmat'}\n"
          ]
        }
      ]
    },
    {
      "cell_type": "code",
      "source": [
        "island.remove(\"Amini\")\n",
        "print(island)"
      ],
      "metadata": {
        "id": "UaMV5Ds7P6A8"
      },
      "execution_count": null,
      "outputs": []
    },
    {
      "cell_type": "code",
      "source": [
        "#### join ###"
      ],
      "metadata": {
        "id": "oLVuOVTNQhWI"
      },
      "execution_count": null,
      "outputs": []
    },
    {
      "cell_type": "code",
      "source": [
        "a1={\"aa\",\"bb\",\"cc\"}\n",
        "b1={\"dd\",\"ee\",\"ff\"}\n",
        "c1=a1.union(b1)\n",
        "print(c1)"
      ],
      "metadata": {
        "colab": {
          "base_uri": "https://localhost:8080/"
        },
        "id": "pI-MPzEtQkdE",
        "outputId": "3982aa98-a233-4f42-a4c5-81a79f9768fc"
      },
      "execution_count": 7,
      "outputs": [
        {
          "output_type": "stream",
          "name": "stdout",
          "text": [
            "{'dd', 'bb', 'ee', 'aa', 'ff', 'cc'}\n"
          ]
        }
      ]
    },
    {
      "cell_type": "code",
      "source": [
        "## d/f- returns a set containing the d/f b/w two or more sets(a)"
      ],
      "metadata": {
        "id": "Az4CScgWRT75"
      },
      "execution_count": null,
      "outputs": []
    },
    {
      "cell_type": "code",
      "source": [
        "a={1,2,3,5,6}\n",
        "b={2,5,6,7,8}\n",
        "c=a-b\n",
        "print(c)"
      ],
      "metadata": {
        "colab": {
          "base_uri": "https://localhost:8080/"
        },
        "id": "zPA9NIvBR-ZY",
        "outputId": "1fab25e5-93e4-4052-a65f-3d8de6994a4f"
      },
      "execution_count": 8,
      "outputs": [
        {
          "output_type": "stream",
          "name": "stdout",
          "text": [
            "{1, 3}\n"
          ]
        }
      ]
    },
    {
      "cell_type": "code",
      "source": [
        "### Using difference function 1st method"
      ],
      "metadata": {
        "id": "WImru3YMTfk4"
      },
      "execution_count": null,
      "outputs": []
    },
    {
      "cell_type": "code",
      "source": [
        "a={1,2,3,5,6}\n",
        "b={2,5,6,7,8}\n",
        "c=b-a\n",
        "print(c)\n",
        "d=a.difference(b)\n",
        "print(d)"
      ],
      "metadata": {
        "colab": {
          "base_uri": "https://localhost:8080/"
        },
        "id": "iAr8RBg6SZ8k",
        "outputId": "13c8f7cd-34ad-4f46-c332-1afdbb4bbfd1"
      },
      "execution_count": 10,
      "outputs": [
        {
          "output_type": "stream",
          "name": "stdout",
          "text": [
            "{8, 7}\n",
            "{1, 3}\n"
          ]
        }
      ]
    },
    {
      "cell_type": "code",
      "source": [
        "##### intersection method ####"
      ],
      "metadata": {
        "id": "G5Xq1EtSUoS9"
      },
      "execution_count": null,
      "outputs": []
    },
    {
      "cell_type": "code",
      "source": [
        "set_1={2,3,1,4}\n",
        "set_2={3,4,5,1}\n",
        "set_3=set_1&set_2\n",
        "print(set_3)"
      ],
      "metadata": {
        "colab": {
          "base_uri": "https://localhost:8080/"
        },
        "id": "1PU-9ztISxzu",
        "outputId": "9b50e537-cdaf-47aa-e34c-c9e0ce49a1c9"
      },
      "execution_count": 11,
      "outputs": [
        {
          "output_type": "stream",
          "name": "stdout",
          "text": [
            "{1, 3, 4}\n"
          ]
        }
      ]
    },
    {
      "cell_type": "code",
      "source": [
        "set_a={2,3,5,6}\n",
        "set_b={1,2,3,4}\n",
        "set_c=set_a.intersection(set_b)\n",
        "print(set_c)"
      ],
      "metadata": {
        "colab": {
          "base_uri": "https://localhost:8080/"
        },
        "id": "J6-KN5OEVAPe",
        "outputId": "bf74a46d-b537-4e76-be77-a69b43cbc20b"
      },
      "execution_count": 12,
      "outputs": [
        {
          "output_type": "stream",
          "name": "stdout",
          "text": [
            "{2, 3}\n"
          ]
        }
      ]
    },
    {
      "cell_type": "code",
      "source": [
        "#### for clear #####"
      ],
      "metadata": {
        "id": "MOOcgjbyVzoa"
      },
      "execution_count": null,
      "outputs": []
    },
    {
      "cell_type": "code",
      "source": [
        "set_1.clear\n",
        "print(set_1)"
      ],
      "metadata": {
        "colab": {
          "base_uri": "https://localhost:8080/"
        },
        "id": "ZnyIQgiaV2f3",
        "outputId": "461be3ef-0dff-430d-efa8-6f5613e8dbe8"
      },
      "execution_count": 13,
      "outputs": [
        {
          "output_type": "stream",
          "name": "stdout",
          "text": [
            "{1, 2, 3, 4}\n"
          ]
        }
      ]
    },
    {
      "cell_type": "code",
      "source": [
        "##### for delete"
      ],
      "metadata": {
        "id": "9q5oWwnoW8t-"
      },
      "execution_count": null,
      "outputs": []
    },
    {
      "cell_type": "code",
      "source": [
        "del set_1\n",
        "print(set_1)"
      ],
      "metadata": {
        "id": "tiFKUSvGWARJ"
      },
      "execution_count": null,
      "outputs": []
    },
    {
      "cell_type": "code",
      "source": [
        "plane1={\"indigo\",\"airlines\",\"emirates\",\"omanspace\"}\n",
        "plane2={\"airindia\",\"spacejet\",\"indigo\",\"emirates\"}\n",
        "plane3=plane1.union(plane2)\n",
        "print(plane3)"
      ],
      "metadata": {
        "colab": {
          "base_uri": "https://localhost:8080/"
        },
        "id": "J9IrJRkYW6Yx",
        "outputId": "cffd0246-2206-4121-e39b-f1f42380156f"
      },
      "execution_count": 15,
      "outputs": [
        {
          "output_type": "stream",
          "name": "stdout",
          "text": [
            "{'omanspace', 'airindia', 'indigo', 'emirates', 'airlines', 'spacejet'}\n"
          ]
        }
      ]
    },
    {
      "cell_type": "code",
      "source": [
        "plane1.remove(\"airlines\")\n",
        "print(plane1)"
      ],
      "metadata": {
        "colab": {
          "base_uri": "https://localhost:8080/"
        },
        "id": "S98D0VprYVC0",
        "outputId": "033315db-8987-4624-9304-418cdf771beb"
      },
      "execution_count": 16,
      "outputs": [
        {
          "output_type": "stream",
          "name": "stdout",
          "text": [
            "{'omanspace', 'emirates', 'indigo'}\n"
          ]
        }
      ]
    },
    {
      "cell_type": "code",
      "source": [
        "plane3=plane1-plane2\n",
        "print(plane3)"
      ],
      "metadata": {
        "colab": {
          "base_uri": "https://localhost:8080/"
        },
        "id": "yd0SCTqRYlN_",
        "outputId": "40be5133-68e9-44cf-c13c-82d41f6eb5b6"
      },
      "execution_count": 17,
      "outputs": [
        {
          "output_type": "stream",
          "name": "stdout",
          "text": [
            "{'omanspace'}\n"
          ]
        }
      ]
    },
    {
      "cell_type": "code",
      "source": [
        "plane=plane1.difference(plane2)\n",
        "print(plane)"
      ],
      "metadata": {
        "colab": {
          "base_uri": "https://localhost:8080/"
        },
        "id": "7AsfJk19ZBbo",
        "outputId": "092b5068-c978-4d47-cd9b-96b82f67751b"
      },
      "execution_count": 18,
      "outputs": [
        {
          "output_type": "stream",
          "name": "stdout",
          "text": [
            "{'omanspace'}\n"
          ]
        }
      ]
    },
    {
      "cell_type": "code",
      "source": [
        "plane3=plane1&plane2\n",
        "print(plane3)"
      ],
      "metadata": {
        "colab": {
          "base_uri": "https://localhost:8080/"
        },
        "id": "LYq9XcjrZS7y",
        "outputId": "ac8f7da3-3b6f-45ed-cb09-471c47b78723"
      },
      "execution_count": 19,
      "outputs": [
        {
          "output_type": "stream",
          "name": "stdout",
          "text": [
            "{'emirates', 'indigo'}\n"
          ]
        }
      ]
    },
    {
      "cell_type": "code",
      "source": [
        "del plane\n",
        "print(plane1)"
      ],
      "metadata": {
        "colab": {
          "base_uri": "https://localhost:8080/"
        },
        "id": "Lkqm0mhcZiDE",
        "outputId": "860f8218-7302-40e6-8c87-0b2ee7689d4a"
      },
      "execution_count": 20,
      "outputs": [
        {
          "output_type": "stream",
          "name": "stdout",
          "text": [
            "{'omanspace', 'emirates', 'indigo'}\n"
          ]
        }
      ]
    },
    {
      "cell_type": "code",
      "source": [
        "plane1.update([\"omanspace\"])\n",
        "print(plane1)"
      ],
      "metadata": {
        "colab": {
          "base_uri": "https://localhost:8080/"
        },
        "id": "eQMKr7htZs0L",
        "outputId": "dddc0301-4754-4ab3-cf85-bd3dbb2c7be0"
      },
      "execution_count": 22,
      "outputs": [
        {
          "output_type": "stream",
          "name": "stdout",
          "text": [
            "{'omanspace', 'emirates', 'indigo'}\n"
          ]
        }
      ]
    },
    {
      "cell_type": "code",
      "source": [],
      "metadata": {
        "id": "9XYIt0rjaX0y"
      },
      "execution_count": null,
      "outputs": []
    },
    {
      "cell_type": "code",
      "source": [
        "########## DICTIONARY ######"
      ],
      "metadata": {
        "id": "f-oAmQSiaYhQ"
      },
      "execution_count": null,
      "outputs": []
    },
    {
      "cell_type": "code",
      "source": [
        "dict1={\"name\":\"Walker\",\n",
        "       \"email\": \"johnwalker@gmail.com\",\n",
        "        \"phone\": 78867668}\n",
        "print(dict1)"
      ],
      "metadata": {
        "colab": {
          "base_uri": "https://localhost:8080/"
        },
        "id": "_semT0uOacTC",
        "outputId": "45e6f20d-d56e-449d-f4c6-29dfdf878e0b"
      },
      "execution_count": 24,
      "outputs": [
        {
          "output_type": "stream",
          "name": "stdout",
          "text": [
            "{'name': 'Walker', 'email': 'johnwalker@gmail.com', 'phone': 78867668}\n"
          ]
        }
      ]
    },
    {
      "cell_type": "code",
      "source": [
        "### to access particular value"
      ],
      "metadata": {
        "id": "NvB1dKQebfUl"
      },
      "execution_count": null,
      "outputs": []
    },
    {
      "cell_type": "code",
      "source": [
        "b=dict1[\"phone\"]\n",
        "print(b)"
      ],
      "metadata": {
        "colab": {
          "base_uri": "https://localhost:8080/"
        },
        "id": "fnrN4tZSb6JC",
        "outputId": "3be4e3be-3e33-4377-e01a-3b0a1ac3264c"
      },
      "execution_count": 25,
      "outputs": [
        {
          "output_type": "stream",
          "name": "stdout",
          "text": [
            "78867668\n"
          ]
        }
      ]
    },
    {
      "cell_type": "code",
      "source": [
        "b=dict1.get(\"phone\")\n",
        "print(b)"
      ],
      "metadata": {
        "colab": {
          "base_uri": "https://localhost:8080/"
        },
        "id": "PiVThNBucgNc",
        "outputId": "778b59eb-b06a-41bd-a2e1-0def3494eacb"
      },
      "execution_count": 26,
      "outputs": [
        {
          "output_type": "stream",
          "name": "stdout",
          "text": [
            "78867668\n"
          ]
        }
      ]
    },
    {
      "cell_type": "code",
      "source": [
        "## chnge or update"
      ],
      "metadata": {
        "id": "2U6_Q8Itdaeu"
      },
      "execution_count": null,
      "outputs": []
    },
    {
      "cell_type": "code",
      "source": [
        "dict1['name']=\"vinod\"\n",
        "print(dict1)"
      ],
      "metadata": {
        "colab": {
          "base_uri": "https://localhost:8080/"
        },
        "id": "td4w142fdexG",
        "outputId": "9abbd802-d99c-4393-bee3-15ed787263bf"
      },
      "execution_count": 27,
      "outputs": [
        {
          "output_type": "stream",
          "name": "stdout",
          "text": [
            "{'name': 'vinod', 'email': 'johnwalker@gmail.com', 'phone': 78867668}\n"
          ]
        }
      ]
    },
    {
      "cell_type": "code",
      "source": [
        "### To add new element"
      ],
      "metadata": {
        "id": "sZBjSi-jd5ja"
      },
      "execution_count": null,
      "outputs": []
    },
    {
      "cell_type": "code",
      "source": [
        "dict1[\"age\"]=27\n",
        "print(dict1)"
      ],
      "metadata": {
        "colab": {
          "base_uri": "https://localhost:8080/"
        },
        "id": "LGGo21HDd9o8",
        "outputId": "55df8bf7-ffae-4ef7-c18b-47e2cc2aae6d"
      },
      "execution_count": 28,
      "outputs": [
        {
          "output_type": "stream",
          "name": "stdout",
          "text": [
            "{'name': 'vinod', 'email': 'johnwalker@gmail.com', 'phone': 78867668, 'age': 27}\n"
          ]
        }
      ]
    },
    {
      "cell_type": "code",
      "source": [
        "### copy function ###"
      ],
      "metadata": {
        "id": "ZUBBP4WqefNp"
      },
      "execution_count": null,
      "outputs": []
    },
    {
      "cell_type": "code",
      "source": [
        "new_dict=dict1.copy()\n",
        "print(new_dict)"
      ],
      "metadata": {
        "colab": {
          "base_uri": "https://localhost:8080/"
        },
        "id": "p4vHpMsyeilH",
        "outputId": "8d3d22e6-4644-4f54-c65b-5b0b3b7c4d8b"
      },
      "execution_count": 29,
      "outputs": [
        {
          "output_type": "stream",
          "name": "stdout",
          "text": [
            "{'name': 'vinod', 'email': 'johnwalker@gmail.com', 'phone': 78867668, 'age': 27}\n"
          ]
        }
      ]
    },
    {
      "cell_type": "code",
      "source": [
        "#### remove the element"
      ],
      "metadata": {
        "id": "nxT5TEc1fJJR"
      },
      "execution_count": null,
      "outputs": []
    },
    {
      "cell_type": "code",
      "source": [
        "dict1.pop(\"age\")\n",
        "print(dict1)"
      ],
      "metadata": {
        "colab": {
          "base_uri": "https://localhost:8080/"
        },
        "id": "9apF9S83fLu8",
        "outputId": "0b1310b0-01fa-462b-b50d-acc5a1af7ac1"
      },
      "execution_count": 30,
      "outputs": [
        {
          "output_type": "stream",
          "name": "stdout",
          "text": [
            "{'name': 'vinod', 'email': 'johnwalker@gmail.com', 'phone': 78867668}\n"
          ]
        }
      ]
    },
    {
      "cell_type": "code",
      "source": [
        "del dict1[\"phone\"]\n",
        "print(dict1)"
      ],
      "metadata": {
        "colab": {
          "base_uri": "https://localhost:8080/"
        },
        "id": "Ug375ulcfW-k",
        "outputId": "3b941e5f-69b4-4f98-b618-46049f1119d0"
      },
      "execution_count": 31,
      "outputs": [
        {
          "output_type": "stream",
          "name": "stdout",
          "text": [
            "{'name': 'vinod', 'email': 'johnwalker@gmail.com'}\n"
          ]
        }
      ]
    },
    {
      "cell_type": "code",
      "source": [],
      "metadata": {
        "id": "hsalILtnhuh0"
      },
      "execution_count": null,
      "outputs": []
    },
    {
      "cell_type": "code",
      "source": [
        "### STRING #######"
      ],
      "metadata": {
        "id": "68uUKNiDgTLc"
      },
      "execution_count": null,
      "outputs": []
    },
    {
      "cell_type": "code",
      "source": [
        "building=\"Samsung Technologies\"\n",
        "print(building)"
      ],
      "metadata": {
        "colab": {
          "base_uri": "https://localhost:8080/"
        },
        "id": "CX5AJhZbgZLd",
        "outputId": "8c22bc9d-2edd-4a90-a218-592e46c5ccb2"
      },
      "execution_count": 32,
      "outputs": [
        {
          "output_type": "stream",
          "name": "stdout",
          "text": [
            "Samsung Technologies\n"
          ]
        }
      ]
    },
    {
      "cell_type": "code",
      "source": [
        "print(building[3])"
      ],
      "metadata": {
        "colab": {
          "base_uri": "https://localhost:8080/"
        },
        "id": "StGVEMTYhwl3",
        "outputId": "71c2f645-22e4-4d51-d527-105553bd4700"
      },
      "execution_count": 34,
      "outputs": [
        {
          "output_type": "stream",
          "name": "stdout",
          "text": [
            "s\n"
          ]
        }
      ]
    },
    {
      "cell_type": "code",
      "source": [
        "### Slicing method #####"
      ],
      "metadata": {
        "id": "Jwj5eYFJiRbW"
      },
      "execution_count": 35,
      "outputs": []
    },
    {
      "cell_type": "code",
      "source": [
        "print(building[1:14])"
      ],
      "metadata": {
        "colab": {
          "base_uri": "https://localhost:8080/"
        },
        "id": "HyoTuHsKiiBN",
        "outputId": "96aa37ad-2bdb-49f0-f446-78d4cd62fe9a"
      },
      "execution_count": 41,
      "outputs": [
        {
          "output_type": "stream",
          "name": "stdout",
          "text": [
            "amsung Techno\n"
          ]
        }
      ]
    },
    {
      "cell_type": "code",
      "source": [
        "### strip method (removing xtra spaces)"
      ],
      "metadata": {
        "id": "QgHdFVYzkmU4"
      },
      "execution_count": null,
      "outputs": []
    },
    {
      "cell_type": "code",
      "source": [
        "a=\"    hellow   \"\n",
        "print(a)"
      ],
      "metadata": {
        "colab": {
          "base_uri": "https://localhost:8080/"
        },
        "id": "C1RGvuf6kV4y",
        "outputId": "509817e9-eab7-4e90-a58f-ff122b9b1e88"
      },
      "execution_count": 42,
      "outputs": [
        {
          "output_type": "stream",
          "name": "stdout",
          "text": [
            "    hellow   \n"
          ]
        }
      ]
    },
    {
      "cell_type": "code",
      "source": [
        "print(a.strip())"
      ],
      "metadata": {
        "colab": {
          "base_uri": "https://localhost:8080/"
        },
        "id": "sSNOgKVCkr5n",
        "outputId": "d0262e2b-aeb2-4186-effb-2567f4a555b9"
      },
      "execution_count": 43,
      "outputs": [
        {
          "output_type": "stream",
          "name": "stdout",
          "text": [
            "hellow\n"
          ]
        }
      ]
    },
    {
      "cell_type": "code",
      "source": [
        "#### changing Upper case to Lower case"
      ],
      "metadata": {
        "id": "m-6u670elNEA"
      },
      "execution_count": 44,
      "outputs": []
    },
    {
      "cell_type": "code",
      "source": [
        "dell=\"COMPUTER\"\n",
        "print(dell)"
      ],
      "metadata": {
        "colab": {
          "base_uri": "https://localhost:8080/"
        },
        "id": "3iA6TRlglTDZ",
        "outputId": "733940ca-e578-479c-8fb1-9051e2783540"
      },
      "execution_count": 45,
      "outputs": [
        {
          "output_type": "stream",
          "name": "stdout",
          "text": [
            "COMPUTER\n"
          ]
        }
      ]
    },
    {
      "cell_type": "code",
      "source": [
        "print(dell.lower())"
      ],
      "metadata": {
        "colab": {
          "base_uri": "https://localhost:8080/"
        },
        "id": "-gyu4oVLlxbO",
        "outputId": "4b8bf8eb-5796-4652-e41e-259bcf9b51fe"
      },
      "execution_count": 46,
      "outputs": [
        {
          "output_type": "stream",
          "name": "stdout",
          "text": [
            "computer\n"
          ]
        }
      ]
    },
    {
      "cell_type": "code",
      "source": [
        "### Changing lower case to Upper case"
      ],
      "metadata": {
        "id": "3xmeZP7wl2NU"
      },
      "execution_count": null,
      "outputs": []
    },
    {
      "cell_type": "code",
      "source": [
        "print(dell.upper())"
      ],
      "metadata": {
        "colab": {
          "base_uri": "https://localhost:8080/"
        },
        "id": "vTgrkxejl7lp",
        "outputId": "c98f5ebc-430c-40d3-9ce6-2807365b3345"
      },
      "execution_count": 47,
      "outputs": [
        {
          "output_type": "stream",
          "name": "stdout",
          "text": [
            "COMPUTER\n"
          ]
        }
      ]
    },
    {
      "cell_type": "code",
      "source": [
        "##### SWIPE KEYS Method #####"
      ],
      "metadata": {
        "id": "Piom--hhmRU7"
      },
      "execution_count": null,
      "outputs": []
    },
    {
      "cell_type": "code",
      "source": [
        "r=\"RThhfRFKJhg\"\n",
        "print(r.swapcase())"
      ],
      "metadata": {
        "colab": {
          "base_uri": "https://localhost:8080/"
        },
        "id": "uSIYySzAmUTb",
        "outputId": "d3829a4a-2814-474b-ed9f-212a89d4d823"
      },
      "execution_count": 48,
      "outputs": [
        {
          "output_type": "stream",
          "name": "stdout",
          "text": [
            "rtHHFrfkjHG\n"
          ]
        }
      ]
    },
    {
      "cell_type": "code",
      "source": [
        "## Replace function ###"
      ],
      "metadata": {
        "id": "LLBRs7RMse2O"
      },
      "execution_count": null,
      "outputs": []
    },
    {
      "cell_type": "code",
      "source": [
        "bank=\"Canara Bank\"\n",
        "print(bank.replace(\"C\",\"T\"))"
      ],
      "metadata": {
        "colab": {
          "base_uri": "https://localhost:8080/"
        },
        "id": "8Y3wZogesi6e",
        "outputId": "73cdef30-de74-4d10-ac0c-dcf5cb307a4a"
      },
      "execution_count": 51,
      "outputs": [
        {
          "output_type": "stream",
          "name": "stdout",
          "text": [
            "Tanara Bank\n"
          ]
        }
      ]
    },
    {
      "cell_type": "code",
      "source": [
        "### endswith method"
      ],
      "metadata": {
        "id": "2OdWQsyts9ik"
      },
      "execution_count": null,
      "outputs": []
    },
    {
      "cell_type": "code",
      "source": [
        "j=\"Hello World\"\n",
        "result=j.endswith(\"World\")\n",
        "print(\"Ends with 'World' :\",result)"
      ],
      "metadata": {
        "colab": {
          "base_uri": "https://localhost:8080/"
        },
        "id": "ClZyP7BctWOy",
        "outputId": "20ca3a64-7690-4753-9df4-4474d7023b9e"
      },
      "execution_count": 55,
      "outputs": [
        {
          "output_type": "stream",
          "name": "stdout",
          "text": [
            "Ends with 'World' : True\n"
          ]
        }
      ]
    },
    {
      "cell_type": "code",
      "source": [
        "###  startwith method"
      ],
      "metadata": {
        "id": "LwiN4Ra2t7gd"
      },
      "execution_count": null,
      "outputs": []
    },
    {
      "cell_type": "code",
      "source": [
        "result=j.startswith(\"Hello\")\n",
        "print(\"Start with 'Hello' :\",result)"
      ],
      "metadata": {
        "colab": {
          "base_uri": "https://localhost:8080/"
        },
        "id": "WWjLDn2wuBSJ",
        "outputId": "27f525b3-8836-497c-acc7-317b0017c8ff"
      },
      "execution_count": 58,
      "outputs": [
        {
          "output_type": "stream",
          "name": "stdout",
          "text": [
            "Start with 'Hello' : True\n"
          ]
        }
      ]
    }
  ]
}